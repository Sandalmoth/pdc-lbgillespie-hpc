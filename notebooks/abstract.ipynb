{
 "cells": [
  {
   "cell_type": "markdown",
   "metadata": {},
   "source": [
    "# Gillespie's algorithm for logistic branching process where all cells are different\n",
    "\n",
    "I am interested in modelling evolution in cancer cells. The logistic branching process [1] is a stochastic process that follows logistic growth. I'm looking at a slightly modified version that works as follows. Consider a population of $N$ cells. Individual cells divide (into two) at a rate\n",
    "\n",
    "$b = r - (N-1)I_b$\n",
    "\n",
    "and die at a rate\n",
    "\n",
    "$d = s + (N-1)I_d$\n",
    "\n",
    "If the birth rate is ever negative, the negative excess is added to the death rate. The process will tend to hover around some population average $\\hat{N}$. This is simply simulated with gillespies algorithm:\n",
    "\n",
    "1. Calculate the birth and death rates\n",
    "2. Get a waiting time from the exponential distribution based on the total rate\n",
    "3. Select division or death with a probability proportional to their rates.\n",
    "\n",
    "Simmulating the process for a time t will take a time proportional to $\\hat{N}$ as the number of events within a time interval depends on the number of cells. This is not a problem.\n",
    "\n",
    "Consider a situation where every cell has a (near) unique base birth rate $r$. It is determined by the cells genome, which changes upon each division, and also by time. The variation in time is slow however, so we can ignore detailed effects of it changing in the simulation. The algorithm now becomes:\n",
    "\n",
    "1. Calculate birth and death rates for each cell\n",
    "2. Get waiting time\n",
    "3. Select event\n",
    "\n",
    "Note that step one grows with the number of cells. Thus simulating for a time $t$ is now $O(\\hat{N}^2)$. I need to run these simulations many times to gather statistics. That is embarrasingly parallell and simple to do. But as it stands the simulations themselves are slower than what would be practical. Thus I have two avenues of optimization:\n",
    "\n",
    "1. Run multiple processes for gathering statistics on separate cores\n",
    "2. Speed up the calculation of birth and death rates (millions of cells so big vector operation) by running it on a GPU.\n",
    "\n",
    "It seems unlikely that parallelizing the rate calculation onto the CPU would provide any real-time speedup when running more than one simulation, since the other cores could be more effectively used just running more simulations. But since it is a simple repeated operation, maybe a GPU can speed it up.\n",
    "\n",
    "### Feasibility\n",
    "The whole simulator is less than 200 lines of c++ code, designed to be flexible with the details of how the cells rates are determined. So it is not a lot of code to modify."
   ]
  }
 ],
 "metadata": {
  "kernelspec": {
   "display_name": "Python 3",
   "language": "python",
   "name": "python3"
  },
  "language_info": {
   "codemirror_mode": {
    "name": "ipython",
    "version": 3
   },
   "file_extension": ".py",
   "mimetype": "text/x-python",
   "name": "python",
   "nbconvert_exporter": "python",
   "pygments_lexer": "ipython3",
   "version": "3.6.4"
  }
 },
 "nbformat": 4,
 "nbformat_minor": 2
}
